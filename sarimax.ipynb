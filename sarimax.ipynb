{
 "cells": [
  {
   "cell_type": "markdown",
   "metadata": {},
   "source": [
    "### 1. Load packages\n",
    "Let's load the required packages"
   ]
  },
  {
   "cell_type": "code",
   "execution_count": 1,
   "metadata": {},
   "outputs": [],
   "source": [
    "import pandas as pd\n",
    "import matplotlib.pyplot as plt\n",
    "import numpy as np\n",
    "from sklearn.metrics import mean_squared_error\n",
    "import time\n",
    "import warnings"
   ]
  },
  {
   "cell_type": "markdown",
   "metadata": {},
   "source": [
    "### 2. Importing cleaned data"
   ]
  },
  {
   "cell_type": "code",
   "execution_count": 2,
   "metadata": {},
   "outputs": [],
   "source": [
    "clean_data = pd.read_csv('dataset/clean_data.csv')"
   ]
  },
  {
   "cell_type": "code",
   "execution_count": 3,
   "metadata": {},
   "outputs": [
    {
     "data": {
      "text/html": [
       "<div>\n",
       "<style scoped>\n",
       "    .dataframe tbody tr th:only-of-type {\n",
       "        vertical-align: middle;\n",
       "    }\n",
       "\n",
       "    .dataframe tbody tr th {\n",
       "        vertical-align: top;\n",
       "    }\n",
       "\n",
       "    .dataframe thead th {\n",
       "        text-align: right;\n",
       "    }\n",
       "</style>\n",
       "<table border=\"1\" class=\"dataframe\">\n",
       "  <thead>\n",
       "    <tr style=\"text-align: right;\">\n",
       "      <th></th>\n",
       "      <th>Unnamed: 0</th>\n",
       "      <th>APMC</th>\n",
       "      <th>Commodity</th>\n",
       "      <th>Year</th>\n",
       "      <th>Month</th>\n",
       "      <th>arrivals_in_qtl</th>\n",
       "      <th>min_price</th>\n",
       "      <th>max_price</th>\n",
       "      <th>modal_price</th>\n",
       "      <th>date</th>\n",
       "      <th>district_name</th>\n",
       "      <th>state_name</th>\n",
       "    </tr>\n",
       "  </thead>\n",
       "  <tbody>\n",
       "    <tr>\n",
       "      <th>0</th>\n",
       "      <td>0</td>\n",
       "      <td>Ahmednagar</td>\n",
       "      <td>Bajri</td>\n",
       "      <td>2015</td>\n",
       "      <td>April</td>\n",
       "      <td>79</td>\n",
       "      <td>1406</td>\n",
       "      <td>1538</td>\n",
       "      <td>1463</td>\n",
       "      <td>2015-04</td>\n",
       "      <td>Ahmadnagar</td>\n",
       "      <td>Maharashtra</td>\n",
       "    </tr>\n",
       "    <tr>\n",
       "      <th>1</th>\n",
       "      <td>1</td>\n",
       "      <td>Ahmednagar</td>\n",
       "      <td>Bajri</td>\n",
       "      <td>2016</td>\n",
       "      <td>April</td>\n",
       "      <td>106</td>\n",
       "      <td>1788</td>\n",
       "      <td>1925</td>\n",
       "      <td>1875</td>\n",
       "      <td>2016-04</td>\n",
       "      <td>Ahmadnagar</td>\n",
       "      <td>Maharashtra</td>\n",
       "    </tr>\n",
       "    <tr>\n",
       "      <th>2</th>\n",
       "      <td>2</td>\n",
       "      <td>Ahmednagar</td>\n",
       "      <td>Wheat(Husked)</td>\n",
       "      <td>2015</td>\n",
       "      <td>April</td>\n",
       "      <td>1253</td>\n",
       "      <td>1572</td>\n",
       "      <td>1890</td>\n",
       "      <td>1731</td>\n",
       "      <td>2015-04</td>\n",
       "      <td>Ahmadnagar</td>\n",
       "      <td>Maharashtra</td>\n",
       "    </tr>\n",
       "    <tr>\n",
       "      <th>3</th>\n",
       "      <td>3</td>\n",
       "      <td>Ahmednagar</td>\n",
       "      <td>Wheat(Husked)</td>\n",
       "      <td>2016</td>\n",
       "      <td>April</td>\n",
       "      <td>387</td>\n",
       "      <td>1750</td>\n",
       "      <td>2220</td>\n",
       "      <td>1999</td>\n",
       "      <td>2016-04</td>\n",
       "      <td>Ahmadnagar</td>\n",
       "      <td>Maharashtra</td>\n",
       "    </tr>\n",
       "    <tr>\n",
       "      <th>4</th>\n",
       "      <td>4</td>\n",
       "      <td>Ahmednagar</td>\n",
       "      <td>Sorgum(Jawar)</td>\n",
       "      <td>2015</td>\n",
       "      <td>April</td>\n",
       "      <td>3825</td>\n",
       "      <td>1600</td>\n",
       "      <td>2200</td>\n",
       "      <td>1900</td>\n",
       "      <td>2015-04</td>\n",
       "      <td>Ahmadnagar</td>\n",
       "      <td>Maharashtra</td>\n",
       "    </tr>\n",
       "  </tbody>\n",
       "</table>\n",
       "</div>"
      ],
      "text/plain": [
       "   Unnamed: 0        APMC      Commodity  Year  Month  arrivals_in_qtl  \\\n",
       "0           0  Ahmednagar          Bajri  2015  April               79   \n",
       "1           1  Ahmednagar          Bajri  2016  April              106   \n",
       "2           2  Ahmednagar  Wheat(Husked)  2015  April             1253   \n",
       "3           3  Ahmednagar  Wheat(Husked)  2016  April              387   \n",
       "4           4  Ahmednagar  Sorgum(Jawar)  2015  April             3825   \n",
       "\n",
       "   min_price  max_price  modal_price     date district_name   state_name  \n",
       "0       1406       1538         1463  2015-04    Ahmadnagar  Maharashtra  \n",
       "1       1788       1925         1875  2016-04    Ahmadnagar  Maharashtra  \n",
       "2       1572       1890         1731  2015-04    Ahmadnagar  Maharashtra  \n",
       "3       1750       2220         1999  2016-04    Ahmadnagar  Maharashtra  \n",
       "4       1600       2200         1900  2015-04    Ahmadnagar  Maharashtra  "
      ]
     },
     "execution_count": 3,
     "metadata": {},
     "output_type": "execute_result"
    }
   ],
   "source": [
    "clean_data.head()"
   ]
  },
  {
   "cell_type": "code",
   "execution_count": 4,
   "metadata": {},
   "outputs": [
    {
     "name": "stdout",
     "output_type": "stream",
     "text": [
      "<class 'pandas.core.frame.DataFrame'>\n",
      "RangeIndex: 59144 entries, 0 to 59143\n",
      "Data columns (total 12 columns):\n",
      " #   Column           Non-Null Count  Dtype \n",
      "---  ------           --------------  ----- \n",
      " 0   Unnamed: 0       59144 non-null  int64 \n",
      " 1   APMC             59144 non-null  object\n",
      " 2   Commodity        59144 non-null  object\n",
      " 3   Year             59144 non-null  int64 \n",
      " 4   Month            59144 non-null  object\n",
      " 5   arrivals_in_qtl  59144 non-null  int64 \n",
      " 6   min_price        59144 non-null  int64 \n",
      " 7   max_price        59144 non-null  int64 \n",
      " 8   modal_price      59144 non-null  int64 \n",
      " 9   date             59144 non-null  object\n",
      " 10  district_name    59144 non-null  object\n",
      " 11  state_name       59144 non-null  object\n",
      "dtypes: int64(6), object(6)\n",
      "memory usage: 5.4+ MB\n"
     ]
    }
   ],
   "source": [
    "clean_data.info() # No NaN values to be seen"
   ]
  },
  {
   "cell_type": "markdown",
   "metadata": {},
   "source": [
    "### 3. Creating clusters of all APMCs and their commodities"
   ]
  },
  {
   "cell_type": "code",
   "execution_count": 5,
   "metadata": {},
   "outputs": [],
   "source": [
    "apmcs = clean_data['APMC'].unique()\n",
    "apmc_comms = {}\n",
    "for apmc in apmcs:\n",
    "    apmc_df = clean_data.loc[clean_data['APMC'] == apmc]\n",
    "    comm_dict = {}\n",
    "    for comm in apmc_df['Commodity'].unique():\n",
    "        comm_df = apmc_df.loc[apmc_df['Commodity'] == comm].sort_values('date')\n",
    "        comm_dict[comm] = comm_df\n",
    "        apmc_comms[apmc] = comm_dict"
   ]
  },
  {
   "cell_type": "markdown",
   "metadata": {},
   "source": [
    "### 4. Visualizing a cluster"
   ]
  },
  {
   "cell_type": "code",
   "execution_count": 6,
   "metadata": {},
   "outputs": [
    {
     "data": {
      "text/html": [
       "<div>\n",
       "<style scoped>\n",
       "    .dataframe tbody tr th:only-of-type {\n",
       "        vertical-align: middle;\n",
       "    }\n",
       "\n",
       "    .dataframe tbody tr th {\n",
       "        vertical-align: top;\n",
       "    }\n",
       "\n",
       "    .dataframe thead th {\n",
       "        text-align: right;\n",
       "    }\n",
       "</style>\n",
       "<table border=\"1\" class=\"dataframe\">\n",
       "  <thead>\n",
       "    <tr style=\"text-align: right;\">\n",
       "      <th></th>\n",
       "      <th>Unnamed: 0</th>\n",
       "      <th>APMC</th>\n",
       "      <th>Commodity</th>\n",
       "      <th>Year</th>\n",
       "      <th>Month</th>\n",
       "      <th>arrivals_in_qtl</th>\n",
       "      <th>min_price</th>\n",
       "      <th>max_price</th>\n",
       "      <th>modal_price</th>\n",
       "      <th>date</th>\n",
       "      <th>district_name</th>\n",
       "      <th>state_name</th>\n",
       "    </tr>\n",
       "  </thead>\n",
       "  <tbody>\n",
       "    <tr>\n",
       "      <th>3025</th>\n",
       "      <td>3143</td>\n",
       "      <td>Ahmednagar</td>\n",
       "      <td>Gram</td>\n",
       "      <td>2014</td>\n",
       "      <td>November</td>\n",
       "      <td>323</td>\n",
       "      <td>2307</td>\n",
       "      <td>2732</td>\n",
       "      <td>2519</td>\n",
       "      <td>2014-11</td>\n",
       "      <td>Ahmadnagar</td>\n",
       "      <td>Maharashtra</td>\n",
       "    </tr>\n",
       "    <tr>\n",
       "      <th>1348</th>\n",
       "      <td>1397</td>\n",
       "      <td>Ahmednagar</td>\n",
       "      <td>Gram</td>\n",
       "      <td>2015</td>\n",
       "      <td>January</td>\n",
       "      <td>504</td>\n",
       "      <td>3074</td>\n",
       "      <td>3222</td>\n",
       "      <td>3148</td>\n",
       "      <td>2015-01</td>\n",
       "      <td>Ahmadnagar</td>\n",
       "      <td>Maharashtra</td>\n",
       "    </tr>\n",
       "    <tr>\n",
       "      <th>1023</th>\n",
       "      <td>1053</td>\n",
       "      <td>Ahmednagar</td>\n",
       "      <td>Gram</td>\n",
       "      <td>2015</td>\n",
       "      <td>February</td>\n",
       "      <td>56</td>\n",
       "      <td>3200</td>\n",
       "      <td>3525</td>\n",
       "      <td>3362</td>\n",
       "      <td>2015-02</td>\n",
       "      <td>Ahmadnagar</td>\n",
       "      <td>Maharashtra</td>\n",
       "    </tr>\n",
       "    <tr>\n",
       "      <th>8</th>\n",
       "      <td>8</td>\n",
       "      <td>Ahmednagar</td>\n",
       "      <td>Gram</td>\n",
       "      <td>2015</td>\n",
       "      <td>April</td>\n",
       "      <td>1794</td>\n",
       "      <td>3533</td>\n",
       "      <td>3762</td>\n",
       "      <td>3647</td>\n",
       "      <td>2015-04</td>\n",
       "      <td>Ahmadnagar</td>\n",
       "      <td>Maharashtra</td>\n",
       "    </tr>\n",
       "    <tr>\n",
       "      <th>2026</th>\n",
       "      <td>2108</td>\n",
       "      <td>Ahmednagar</td>\n",
       "      <td>Gram</td>\n",
       "      <td>2015</td>\n",
       "      <td>June</td>\n",
       "      <td>754</td>\n",
       "      <td>4109</td>\n",
       "      <td>4363</td>\n",
       "      <td>4264</td>\n",
       "      <td>2015-06</td>\n",
       "      <td>Ahmadnagar</td>\n",
       "      <td>Maharashtra</td>\n",
       "    </tr>\n",
       "    <tr>\n",
       "      <th>1704</th>\n",
       "      <td>1768</td>\n",
       "      <td>Ahmednagar</td>\n",
       "      <td>Gram</td>\n",
       "      <td>2015</td>\n",
       "      <td>July</td>\n",
       "      <td>681</td>\n",
       "      <td>3659</td>\n",
       "      <td>4345</td>\n",
       "      <td>4345</td>\n",
       "      <td>2015-07</td>\n",
       "      <td>Ahmadnagar</td>\n",
       "      <td>Maharashtra</td>\n",
       "    </tr>\n",
       "    <tr>\n",
       "      <th>340</th>\n",
       "      <td>345</td>\n",
       "      <td>Ahmednagar</td>\n",
       "      <td>Gram</td>\n",
       "      <td>2015</td>\n",
       "      <td>August</td>\n",
       "      <td>385</td>\n",
       "      <td>4268</td>\n",
       "      <td>4526</td>\n",
       "      <td>4408</td>\n",
       "      <td>2015-08</td>\n",
       "      <td>Ahmadnagar</td>\n",
       "      <td>Maharashtra</td>\n",
       "    </tr>\n",
       "    <tr>\n",
       "      <th>3815</th>\n",
       "      <td>3966</td>\n",
       "      <td>Ahmednagar</td>\n",
       "      <td>Gram</td>\n",
       "      <td>2015</td>\n",
       "      <td>September</td>\n",
       "      <td>181</td>\n",
       "      <td>4164</td>\n",
       "      <td>4432</td>\n",
       "      <td>4333</td>\n",
       "      <td>2015-09</td>\n",
       "      <td>Ahmadnagar</td>\n",
       "      <td>Maharashtra</td>\n",
       "    </tr>\n",
       "    <tr>\n",
       "      <th>3352</th>\n",
       "      <td>3480</td>\n",
       "      <td>Ahmednagar</td>\n",
       "      <td>Gram</td>\n",
       "      <td>2015</td>\n",
       "      <td>October</td>\n",
       "      <td>716</td>\n",
       "      <td>4328</td>\n",
       "      <td>4894</td>\n",
       "      <td>4661</td>\n",
       "      <td>2015-10</td>\n",
       "      <td>Ahmadnagar</td>\n",
       "      <td>Maharashtra</td>\n",
       "    </tr>\n",
       "    <tr>\n",
       "      <th>3026</th>\n",
       "      <td>3144</td>\n",
       "      <td>Ahmednagar</td>\n",
       "      <td>Gram</td>\n",
       "      <td>2015</td>\n",
       "      <td>November</td>\n",
       "      <td>239</td>\n",
       "      <td>4318</td>\n",
       "      <td>4931</td>\n",
       "      <td>4645</td>\n",
       "      <td>2015-11</td>\n",
       "      <td>Ahmadnagar</td>\n",
       "      <td>Maharashtra</td>\n",
       "    </tr>\n",
       "    <tr>\n",
       "      <th>675</th>\n",
       "      <td>693</td>\n",
       "      <td>Ahmednagar</td>\n",
       "      <td>Gram</td>\n",
       "      <td>2015</td>\n",
       "      <td>December</td>\n",
       "      <td>317</td>\n",
       "      <td>4400</td>\n",
       "      <td>4905</td>\n",
       "      <td>4694</td>\n",
       "      <td>2015-12</td>\n",
       "      <td>Ahmadnagar</td>\n",
       "      <td>Maharashtra</td>\n",
       "    </tr>\n",
       "    <tr>\n",
       "      <th>1349</th>\n",
       "      <td>1398</td>\n",
       "      <td>Ahmednagar</td>\n",
       "      <td>Gram</td>\n",
       "      <td>2016</td>\n",
       "      <td>January</td>\n",
       "      <td>1978</td>\n",
       "      <td>4170</td>\n",
       "      <td>4894</td>\n",
       "      <td>4626</td>\n",
       "      <td>2016-01</td>\n",
       "      <td>Ahmadnagar</td>\n",
       "      <td>Maharashtra</td>\n",
       "    </tr>\n",
       "    <tr>\n",
       "      <th>1024</th>\n",
       "      <td>1054</td>\n",
       "      <td>Ahmednagar</td>\n",
       "      <td>Gram</td>\n",
       "      <td>2016</td>\n",
       "      <td>February</td>\n",
       "      <td>1309</td>\n",
       "      <td>4219</td>\n",
       "      <td>4406</td>\n",
       "      <td>4336</td>\n",
       "      <td>2016-02</td>\n",
       "      <td>Ahmadnagar</td>\n",
       "      <td>Maharashtra</td>\n",
       "    </tr>\n",
       "    <tr>\n",
       "      <th>9</th>\n",
       "      <td>9</td>\n",
       "      <td>Ahmednagar</td>\n",
       "      <td>Gram</td>\n",
       "      <td>2016</td>\n",
       "      <td>April</td>\n",
       "      <td>630</td>\n",
       "      <td>4790</td>\n",
       "      <td>5553</td>\n",
       "      <td>5216</td>\n",
       "      <td>2016-04</td>\n",
       "      <td>Ahmadnagar</td>\n",
       "      <td>Maharashtra</td>\n",
       "    </tr>\n",
       "    <tr>\n",
       "      <th>2027</th>\n",
       "      <td>2109</td>\n",
       "      <td>Ahmednagar</td>\n",
       "      <td>Gram</td>\n",
       "      <td>2016</td>\n",
       "      <td>June</td>\n",
       "      <td>684</td>\n",
       "      <td>6369</td>\n",
       "      <td>6896</td>\n",
       "      <td>6642</td>\n",
       "      <td>2016-06</td>\n",
       "      <td>Ahmadnagar</td>\n",
       "      <td>Maharashtra</td>\n",
       "    </tr>\n",
       "    <tr>\n",
       "      <th>341</th>\n",
       "      <td>346</td>\n",
       "      <td>Ahmednagar</td>\n",
       "      <td>Gram</td>\n",
       "      <td>2016</td>\n",
       "      <td>August</td>\n",
       "      <td>313</td>\n",
       "      <td>5906</td>\n",
       "      <td>6433</td>\n",
       "      <td>6188</td>\n",
       "      <td>2016-08</td>\n",
       "      <td>Ahmadnagar</td>\n",
       "      <td>Maharashtra</td>\n",
       "    </tr>\n",
       "    <tr>\n",
       "      <th>3816</th>\n",
       "      <td>3967</td>\n",
       "      <td>Ahmednagar</td>\n",
       "      <td>Gram</td>\n",
       "      <td>2016</td>\n",
       "      <td>September</td>\n",
       "      <td>141</td>\n",
       "      <td>7188</td>\n",
       "      <td>7938</td>\n",
       "      <td>7581</td>\n",
       "      <td>2016-09</td>\n",
       "      <td>Ahmadnagar</td>\n",
       "      <td>Maharashtra</td>\n",
       "    </tr>\n",
       "    <tr>\n",
       "      <th>3353</th>\n",
       "      <td>3481</td>\n",
       "      <td>Ahmednagar</td>\n",
       "      <td>Gram</td>\n",
       "      <td>2016</td>\n",
       "      <td>October</td>\n",
       "      <td>324</td>\n",
       "      <td>7836</td>\n",
       "      <td>8635</td>\n",
       "      <td>8263</td>\n",
       "      <td>2016-10</td>\n",
       "      <td>Ahmadnagar</td>\n",
       "      <td>Maharashtra</td>\n",
       "    </tr>\n",
       "    <tr>\n",
       "      <th>58970</th>\n",
       "      <td>62252</td>\n",
       "      <td>Ahmednagar</td>\n",
       "      <td>Gram</td>\n",
       "      <td>2016</td>\n",
       "      <td>November</td>\n",
       "      <td>173</td>\n",
       "      <td>7057</td>\n",
       "      <td>7950</td>\n",
       "      <td>7522</td>\n",
       "      <td>2016-11</td>\n",
       "      <td>Ahmadnagar</td>\n",
       "      <td>Maharashtra</td>\n",
       "    </tr>\n",
       "  </tbody>\n",
       "</table>\n",
       "</div>"
      ],
      "text/plain": [
       "       Unnamed: 0        APMC Commodity  Year      Month  arrivals_in_qtl  \\\n",
       "3025         3143  Ahmednagar      Gram  2014   November              323   \n",
       "1348         1397  Ahmednagar      Gram  2015    January              504   \n",
       "1023         1053  Ahmednagar      Gram  2015   February               56   \n",
       "8               8  Ahmednagar      Gram  2015      April             1794   \n",
       "2026         2108  Ahmednagar      Gram  2015       June              754   \n",
       "1704         1768  Ahmednagar      Gram  2015       July              681   \n",
       "340           345  Ahmednagar      Gram  2015     August              385   \n",
       "3815         3966  Ahmednagar      Gram  2015  September              181   \n",
       "3352         3480  Ahmednagar      Gram  2015    October              716   \n",
       "3026         3144  Ahmednagar      Gram  2015   November              239   \n",
       "675           693  Ahmednagar      Gram  2015   December              317   \n",
       "1349         1398  Ahmednagar      Gram  2016    January             1978   \n",
       "1024         1054  Ahmednagar      Gram  2016   February             1309   \n",
       "9               9  Ahmednagar      Gram  2016      April              630   \n",
       "2027         2109  Ahmednagar      Gram  2016       June              684   \n",
       "341           346  Ahmednagar      Gram  2016     August              313   \n",
       "3816         3967  Ahmednagar      Gram  2016  September              141   \n",
       "3353         3481  Ahmednagar      Gram  2016    October              324   \n",
       "58970       62252  Ahmednagar      Gram  2016   November              173   \n",
       "\n",
       "       min_price  max_price  modal_price     date district_name   state_name  \n",
       "3025        2307       2732         2519  2014-11    Ahmadnagar  Maharashtra  \n",
       "1348        3074       3222         3148  2015-01    Ahmadnagar  Maharashtra  \n",
       "1023        3200       3525         3362  2015-02    Ahmadnagar  Maharashtra  \n",
       "8           3533       3762         3647  2015-04    Ahmadnagar  Maharashtra  \n",
       "2026        4109       4363         4264  2015-06    Ahmadnagar  Maharashtra  \n",
       "1704        3659       4345         4345  2015-07    Ahmadnagar  Maharashtra  \n",
       "340         4268       4526         4408  2015-08    Ahmadnagar  Maharashtra  \n",
       "3815        4164       4432         4333  2015-09    Ahmadnagar  Maharashtra  \n",
       "3352        4328       4894         4661  2015-10    Ahmadnagar  Maharashtra  \n",
       "3026        4318       4931         4645  2015-11    Ahmadnagar  Maharashtra  \n",
       "675         4400       4905         4694  2015-12    Ahmadnagar  Maharashtra  \n",
       "1349        4170       4894         4626  2016-01    Ahmadnagar  Maharashtra  \n",
       "1024        4219       4406         4336  2016-02    Ahmadnagar  Maharashtra  \n",
       "9           4790       5553         5216  2016-04    Ahmadnagar  Maharashtra  \n",
       "2027        6369       6896         6642  2016-06    Ahmadnagar  Maharashtra  \n",
       "341         5906       6433         6188  2016-08    Ahmadnagar  Maharashtra  \n",
       "3816        7188       7938         7581  2016-09    Ahmadnagar  Maharashtra  \n",
       "3353        7836       8635         8263  2016-10    Ahmadnagar  Maharashtra  \n",
       "58970       7057       7950         7522  2016-11    Ahmadnagar  Maharashtra  "
      ]
     },
     "execution_count": 6,
     "metadata": {},
     "output_type": "execute_result"
    }
   ],
   "source": [
    "cluster = apmc_comms['Ahmednagar']['Gram']\n",
    "cluster"
   ]
  },
  {
   "cell_type": "code",
   "execution_count": 7,
   "metadata": {},
   "outputs": [
    {
     "data": {
      "text/plain": [
       "date\n",
       "2014-11    2519\n",
       "2015-01    3148\n",
       "2015-02    3362\n",
       "2015-04    3647\n",
       "2015-06    4264\n",
       "2015-07    4345\n",
       "2015-08    4408\n",
       "2015-09    4333\n",
       "2015-10    4661\n",
       "2015-11    4645\n",
       "2015-12    4694\n",
       "2016-01    4626\n",
       "2016-02    4336\n",
       "2016-04    5216\n",
       "2016-06    6642\n",
       "2016-08    6188\n",
       "2016-09    7581\n",
       "2016-10    8263\n",
       "2016-11    7522\n",
       "dtype: int64"
      ]
     },
     "execution_count": 7,
     "metadata": {},
     "output_type": "execute_result"
    }
   ],
   "source": [
    "series = pd.Series(cluster['modal_price'].values,  index=cluster.date)\n",
    "series"
   ]
  },
  {
   "cell_type": "markdown",
   "metadata": {},
   "source": [
    "### 5. SARIMAX model"
   ]
  },
  {
   "cell_type": "markdown",
   "metadata": {},
   "source": [
    "#### 5.1 About\n",
    ">*Seasonal Autoregressive Integrated Moving Average, SARIMA or Seasonal ARIMA, is an extension of ARIMA that explicitly supports univariate time series data with a seasonal component.*\n",
    "\n",
    ">It adds three new hyperparameters to specify the **autoregression (AR)**, **differencing (I)** and **moving average (MA)** for the seasonal component of the series, as well as an additional parameter for the period of the **seasonality**.\n"
   ]
  },
  {
   "cell_type": "code",
   "execution_count": 8,
   "metadata": {},
   "outputs": [],
   "source": [
    "from statsmodels.tsa.statespace.sarimax import SARIMAX\n",
    "warnings.filterwarnings(\"ignore\")"
   ]
  },
  {
   "cell_type": "markdown",
   "metadata": {},
   "source": [
    "#### 5.2 Fiting the model"
   ]
  },
  {
   "cell_type": "code",
   "execution_count": 9,
   "metadata": {},
   "outputs": [
    {
     "name": "stdout",
     "output_type": "stream",
     "text": [
      "RMSE: 763.0821011564211\n"
     ]
    }
   ],
   "source": [
    "test_model = SARIMAX(series, order=(4,1,1)).fit()\n",
    "test_rmse = np.sqrt(mean_squared_error(series, test_model.predict(start=0, end=series.shape[0]-1)))\n",
    "print(f\"RMSE: {test_rmse}\")"
   ]
  },
  {
   "cell_type": "markdown",
   "metadata": {},
   "source": [
    "#### 5.3 Prediction"
   ]
  },
  {
   "cell_type": "code",
   "execution_count": 10,
   "metadata": {},
   "outputs": [],
   "source": [
    "def plot_prediction(series, history, apmc, comm):\n",
    "    fig = plt.figure(figsize=(10,7))\n",
    "    fig.patch.set_facecolor('white')\n",
    "    predictions = history.predict(start=0, end=series.shape[0]-1)\n",
    "    plt.plot(predictions[1:])\n",
    "    dates = np.array(['2016-11', '2016-12', '2017-01', '2017-02'])\n",
    "    forecast = history.predict(start=series.shape[0]-1, end=series.shape[0]+2)\n",
    "    forecast = pd.Series(forecast.values, dates)\n",
    "    plt.plot(forecast)\n",
    "    plt.plot(series[1:])\n",
    "    plt.legend(['Predicted', 'Forecasted', 'Modal price'])\n",
    "    plt.xticks(rotation='45')\n",
    "    plt.title(f'APMC: {apmc}  Commodity: {comm}')\n",
    "    plt.show()"
   ]
  },
  {
   "cell_type": "code",
   "execution_count": 11,
   "metadata": {},
   "outputs": [
    {
     "data": {
      "image/png": "[encoded data removed]",
      "text/plain": [
       "<Figure size 720x504 with 1 Axes>"
      ]
     },
     "metadata": {},
     "output_type": "display_data"
    }
   ],
   "source": [
    "plot_prediction(series,test_model, 'Ahmednagar', 'Gram')"
   ]
  },
  {
   "cell_type": "markdown",
   "metadata": {},
   "source": [
    "### 6. Performing Grid Search for finding best-fit values of **order(p, d, q)**."
   ]
  },
  {
   "cell_type": "code",
   "execution_count": 12,
   "metadata": {},
   "outputs": [],
   "source": [
    "def grid_search(series):\n",
    "    p_values = np.arange(1,6)\n",
    "    d_values = np.arange(1,6)\n",
    "    q_values = np.arange(1,13)\n",
    "\n",
    "    rmse_values = []\n",
    "    min_rmse = np.inf\n",
    "    best_order = (1,0,0)\n",
    "    for p in p_values:\n",
    "            for d in d_values:\n",
    "                for q in q_values:\n",
    "                    order = (p,d,q)\n",
    "                    try:\n",
    "                        test_model = SARIMAX(series, order=order).fit()\n",
    "                        test_rmse=np.sqrt(mean_squared_error(series,test_model.predict(start=0,end=series.shape[0]-1)))\n",
    "                        rmse_values.append(test_rmse)\n",
    "                        if test_rmse < min_rmse:\n",
    "                            min_rmse = test_rmse\n",
    "                            best_order = order\n",
    "                    except:\n",
    "                        continue\n",
    "    return (rmse_values, min_rmse, best_order)"
   ]
  },
  {
   "cell_type": "markdown",
   "metadata": {},
   "source": [
    "#### 6.1 Using Grid Search on the cluster and finding best values of (p, d, q)"
   ]
  },
  {
   "cell_type": "code",
   "execution_count": 13,
   "metadata": {},
   "outputs": [
    {
     "name": "stdout",
     "output_type": "stream",
     "text": [
      "Minimum RMSE: 711.9516507037738\n",
      "Best order(p, d, q): (3, 1, 12)\n"
     ]
    },
    {
     "data": {
      "image/png": "[encoded data removed]",
      "text/plain": [
       "<Figure size 720x504 with 1 Axes>"
      ]
     },
     "metadata": {},
     "output_type": "display_data"
    }
   ],
   "source": [
    "params = grid_search(series)\n",
    "test_model = SARIMAX(series, order=params[2]).fit()\n",
    "print(f'Minimum RMSE: {params[1]}')\n",
    "print(f'Best order(p, d, q): {params[2]}')\n",
    "plot_prediction(series,test_model, 'Ahmednagar', 'Gram')"
   ]
  },
  {
   "cell_type": "markdown",
   "metadata": {},
   "source": [
    "#### 6.2 RMSE results for different values of (p, d, q) "
   ]
  },
  {
   "cell_type": "code",
   "execution_count": 14,
   "metadata": {},
   "outputs": [
    {
     "data": {
      "image/png": "[encoded data removed]",
      "text/plain": [
       "<Figure size 432x288 with 1 Axes>"
      ]
     },
     "metadata": {
      "needs_background": "light"
     },
     "output_type": "display_data"
    }
   ],
   "source": [
    "plt.plot(params[0])\n",
    "plt.title('RMSE values')\n",
    "plt.show()"
   ]
  },
  {
   "cell_type": "markdown",
   "metadata": {},
   "source": [
    "### Takeaway: Now we can use the model and grid search for all the clusters"
   ]
  }
 ],
 "metadata": {
  "kernelspec": {
   "display_name": "Python 3",
   "language": "python",
   "name": "python3"
  },
  "language_info": {
   "codemirror_mode": {
    "name": "ipython",
    "version": 3
   },
   "file_extension": ".py",
   "mimetype": "text/x-python",
   "name": "python",
   "nbconvert_exporter": "python",
   "pygments_lexer": "ipython3",
   "version": "3.8.3"
  }
 },
 "nbformat": 4,
 "nbformat_minor": 4
}
